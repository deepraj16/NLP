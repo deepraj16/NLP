{
 "cells": [
  {
   "cell_type": "code",
   "execution_count": 1,
   "id": "787b419d-2f1e-4a78-a471-0ca465013f5f",
   "metadata": {},
   "outputs": [],
   "source": [
    "import pandas as pd \n",
    "import numpy as np \n",
    "import matplotlib.pyplot as plt  \n",
    "import seaborn as sns "
   ]
  },
  {
   "cell_type": "code",
   "execution_count": 2,
   "id": "dd0187eb-b4e0-4060-b957-5460bd2b5866",
   "metadata": {},
   "outputs": [],
   "source": [
    "from sklearn.feature_extraction.text  import CountVectorizer,TfidfTransformer \n",
    "model=CountVectorizer(ngram_range=(2,2)) # n-grams code for given word  "
   ]
  },
  {
   "cell_type": "code",
   "execution_count": 3,
   "id": "dfbd3c42-a3e7-41fa-88d6-66c78ae9575c",
   "metadata": {},
   "outputs": [],
   "source": [
    "df=pd.read_csv(\"Reddit_Data.csv\")"
   ]
  },
  {
   "cell_type": "code",
   "execution_count": 4,
   "id": "4c05cebf-f4ab-4ef3-bbe7-996db0946442",
   "metadata": {},
   "outputs": [
    {
     "data": {
      "text/html": [
       "<div>\n",
       "<style scoped>\n",
       "    .dataframe tbody tr th:only-of-type {\n",
       "        vertical-align: middle;\n",
       "    }\n",
       "\n",
       "    .dataframe tbody tr th {\n",
       "        vertical-align: top;\n",
       "    }\n",
       "\n",
       "    .dataframe thead th {\n",
       "        text-align: right;\n",
       "    }\n",
       "</style>\n",
       "<table border=\"1\" class=\"dataframe\">\n",
       "  <thead>\n",
       "    <tr style=\"text-align: right;\">\n",
       "      <th></th>\n",
       "      <th>clean_comment</th>\n",
       "      <th>category</th>\n",
       "    </tr>\n",
       "  </thead>\n",
       "  <tbody>\n",
       "    <tr>\n",
       "      <th>32637</th>\n",
       "      <td>line control typing phone beesh</td>\n",
       "      <td>0</td>\n",
       "    </tr>\n",
       "    <tr>\n",
       "      <th>11754</th>\n",
       "      <td>greggs guest tonight base hell lmao everything...</td>\n",
       "      <td>-1</td>\n",
       "    </tr>\n",
       "    <tr>\n",
       "      <th>24262</th>\n",
       "      <td>amit shah wala part alag level</td>\n",
       "      <td>0</td>\n",
       "    </tr>\n",
       "    <tr>\n",
       "      <th>5058</th>\n",
       "      <td>yes there improvement but pace slow and haphaz...</td>\n",
       "      <td>-1</td>\n",
       "    </tr>\n",
       "  </tbody>\n",
       "</table>\n",
       "</div>"
      ],
      "text/plain": [
       "                                           clean_comment  category\n",
       "32637                    line control typing phone beesh         0\n",
       "11754  greggs guest tonight base hell lmao everything...        -1\n",
       "24262                    amit shah wala part alag level          0\n",
       "5058   yes there improvement but pace slow and haphaz...        -1"
      ]
     },
     "execution_count": 4,
     "metadata": {},
     "output_type": "execute_result"
    }
   ],
   "source": [
    "df.sample(4)"
   ]
  },
  {
   "cell_type": "code",
   "execution_count": 9,
   "id": "276644b8-77d5-4e2a-a370-e6e0219eb2d6",
   "metadata": {},
   "outputs": [
    {
     "data": {
      "text/plain": [
       "'what you have learned yours and only yours what you want teach different focus the goal not the wrapping paper buddhism can passed others without word about the buddha '"
      ]
     },
     "execution_count": 9,
     "metadata": {},
     "output_type": "execute_result"
    }
   ],
   "source": [
    "df['clean_comment'][3]\n"
   ]
  },
  {
   "cell_type": "code",
   "execution_count": 7,
   "id": "5239a701-6fe5-448f-8bf7-8b5df85d9e98",
   "metadata": {},
   "outputs": [],
   "source": [
    "# given code has the model word  the type of data which i have tarinde on it  "
   ]
  },
  {
   "cell_type": "code",
   "execution_count": 10,
   "id": "639b46cb-6688-4d88-b226-1b518a4f9a5a",
   "metadata": {},
   "outputs": [
    {
     "data": {
      "text/plain": [
       "0"
      ]
     },
     "execution_count": 10,
     "metadata": {},
     "output_type": "execute_result"
    }
   ],
   "source": [
    "# text preprocenssing of data for \n",
    "# for give word we have  \n",
    "df['category'][3]"
   ]
  },
  {
   "cell_type": "code",
   "execution_count": 20,
   "id": "501d9fc8-12e4-4785-b897-a032624fc499",
   "metadata": {},
   "outputs": [
    {
     "data": {
      "text/plain": [
       "2    seriously don say thing first all they won get...\n",
       "5    you should all sit down together and watch the...\n",
       "8    there are two varieties christians dogmatic th...\n",
       "Name: clean_comment, dtype: object"
      ]
     },
     "execution_count": 20,
     "metadata": {},
     "output_type": "execute_result"
    }
   ],
   "source": [
    "df[df['category'] == -1]['clean_comment'].head(3)"
   ]
  },
  {
   "cell_type": "code",
   "execution_count": 21,
   "id": "abd3865b-3cc8-45d7-992a-da7d6d054e2a",
   "metadata": {},
   "outputs": [
    {
     "data": {
      "text/plain": [
       "'there are two varieties christians dogmatic that dwell words and conservative that take heart the spirit the teachings hate oversimplify things but helps this understanding you are discussing with dogmatic religious people who live the letter the law will uphill battle wish you luck you are discussing with moderates exchange idea should come fairly easily comparing contrasting also discussing parallel teachings presented differently wouldn out the ordinary they may give you relevant spiritual advice even though you are not believer their religion '"
      ]
     },
     "execution_count": 21,
     "metadata": {},
     "output_type": "execute_result"
    }
   ],
   "source": [
    "df['clean_comment'][8]"
   ]
  },
  {
   "cell_type": "code",
   "execution_count": 22,
   "id": "28c7ff34-9491-4da5-b00f-1fff23abe66f",
   "metadata": {},
   "outputs": [
    {
     "data": {
      "text/plain": [
       "(37249, 2)"
      ]
     },
     "execution_count": 22,
     "metadata": {},
     "output_type": "execute_result"
    }
   ],
   "source": [
    "df.shape"
   ]
  },
  {
   "cell_type": "code",
   "execution_count": 58,
   "id": "5f64db6f-c7fb-4441-ac00-94c70897bda2",
   "metadata": {},
   "outputs": [],
   "source": [
    "# preprocessing steps to geting \n",
    "#1) Text preproceing \n",
    "#2) html tag removing \n",
    "#3) tokensizer \n",
    "#4) limetinzetion \n",
    "#5) sping checks \n",
    "#6) emoji cheks \n",
    "#7) limteinzed \n",
    "import regex as re \n",
    "import string \n",
    "from textblob import TextBlob \n",
    "from nltk.corpus import stopwords\n",
    "import emoji\n",
    "from nltk.tokenize import sent_tokenize,word_tokenize\n",
    "e=string.punctuation\n",
    "\n",
    "\n",
    "def html_removing(text): \n",
    "    patten=re.compile(\"<.*?>\")\n",
    "    return patten.sub(\"\",text)\n",
    "\n",
    "def link_removing(text) : \n",
    "    patten =re.compile(\"https?://\\S+|www\\.\\S+\") \n",
    "    return patten.sub(\"\",text)\n",
    "\n",
    "def puction_removing(text) : \n",
    "    for i in e :\n",
    "        text.replace(i,\"\")\n",
    "\n",
    "def spelling_checker(incorrt_text):\n",
    "    correct_text=TextBlob(incorrt_text)\n",
    "    return correct_text.correct \n",
    "\n",
    "def  remove_stopword(text): \n",
    "    new_text= []\n",
    "    for word in text.split() : \n",
    "        if word in stopwords.words('english'): \n",
    "            new_text.append('')\n",
    "        else : \n",
    "            new_text.append(word)\n",
    "    x = new_text[:]\n",
    "    new_text.clear() \n",
    "    return \" \".join(x)  \n",
    "\n",
    "\n",
    "def remove_emoji(text):\n",
    "    emoji_pattern = re.compile(\"[\"\n",
    "                           u\"\\U0001F600-\\U0001F64F\"  # emoticons\n",
    "                           u\"\\U0001F300-\\U0001F5FF\"  # symbols & pictographs\n",
    "                           u\"\\U0001F680-\\U0001F6FF\"  # transport & map symbols\n",
    "                           u\"\\U0001F1E0-\\U0001F1FF\"  # flags (iOS)\n",
    "                           u\"\\U00002702-\\U000027B0\"\n",
    "                           u\"\\U000024C2-\\U0001F251\"\n",
    "                           \"]+\", flags=re.UNICODE)\n",
    "    return emoji_pattern.sub(r'', text)\n",
    "\n",
    "def count_emojis_inDataFame(text):\n",
    "    emoji_counts = {}\n",
    "    for char in text:\n",
    "        if emoji.is_emoji(char): \n",
    "            emoji_counts[char] = emoji_counts.get(char, 0) + 1\n",
    "    return emoji_counts\n",
    "\n",
    "\n",
    "def Tokenzies(text): \n",
    "    return word_tokenize(text)\n",
    "\n",
    "def Sent_Tokenzies(Sent) : \n",
    "    return Sent_Tokenzies(sent)"
   ]
  },
  {
   "cell_type": "code",
   "execution_count": 26,
   "id": "ac2ba0dc-4618-425f-ba82-0d3c13e6573f",
   "metadata": {},
   "outputs": [
    {
     "data": {
      "text/plain": [
       "'ram is my freind '"
      ]
     },
     "execution_count": 26,
     "metadata": {},
     "output_type": "execute_result"
    }
   ],
   "source": [
    "p =\"<h1>ram is my freind </h1>\"\n",
    "html_removing(p)"
   ]
  },
  {
   "cell_type": "code",
   "execution_count": 30,
   "id": "837d11de-dc9a-43e1-9294-5802e449f7e7",
   "metadata": {},
   "outputs": [
    {
     "data": {
      "text/plain": [
       "'the my word '"
      ]
     },
     "execution_count": 30,
     "metadata": {},
     "output_type": "execute_result"
    }
   ],
   "source": [
    "p=\"the my word www.mycom.com\"\n",
    "link_removing(p)"
   ]
  },
  {
   "cell_type": "code",
   "execution_count": 42,
   "id": "215460d9-e8d1-4f6e-8172-39c5b7b38b47",
   "metadata": {},
   "outputs": [
    {
     "data": {
      "text/plain": [
       "'ram  doning  coding   way  given  '"
      ]
     },
     "execution_count": 42,
     "metadata": {},
     "output_type": "execute_result"
    }
   ],
   "source": [
    "r=\"ram is doning the coding in the way for given for into\" \n",
    "remove_stopword(r)"
   ]
  },
  {
   "cell_type": "code",
   "execution_count": 46,
   "id": "6b131b92-cae7-47fa-a15e-38e664dc2cea",
   "metadata": {},
   "outputs": [
    {
     "data": {
      "text/plain": [
       "'Loved the movie. It was '"
      ]
     },
     "execution_count": 46,
     "metadata": {},
     "output_type": "execute_result"
    }
   ],
   "source": [
    "remove_emoji(\"Loved the movie. It was 😘😘\") "
   ]
  },
  {
   "cell_type": "code",
   "execution_count": null,
   "id": "e7ec1f5b-b152-4251-8519-55e9f970d819",
   "metadata": {},
   "outputs": [],
   "source": [
    "remove_emoji(\"my good way for 😍😌😌\")"
   ]
  },
  {
   "cell_type": "code",
   "execution_count": 47,
   "id": "0fe9c8ad-16a2-4d74-b52e-36ffdb4d6ca6",
   "metadata": {},
   "outputs": [
    {
     "data": {
      "text/plain": [
       "'my good way for '"
      ]
     },
     "execution_count": 47,
     "metadata": {},
     "output_type": "execute_result"
    }
   ],
   "source": [
    "remove_emoji(\"my good way for 😍😌😌\")"
   ]
  },
  {
   "cell_type": "code",
   "execution_count": 52,
   "id": "18ba4942-e344-4f81-b547-28d436b0641f",
   "metadata": {},
   "outputs": [
    {
     "name": "stdout",
     "output_type": "stream",
     "text": [
      "Emojis found:\n",
      "😊: 1\n",
      "😃: 1\n",
      "👍: 1\n"
     ]
    }
   ],
   "source": [
    "import emoji\n",
    "\n",
    "def count_emojis(text):\n",
    "    emoji_counts = {}\n",
    "    for char in text:\n",
    "        if emoji.is_emoji(char): \n",
    "            emoji_counts[char] = emoji_counts.get(char, 0) + 1\n",
    "    return emoji_counts\n",
    "text_with_emojis = \"This is a sentence with some emojis: 😊 😃 👍\"\n",
    "emoji_counts = count_emojis(text_with_emojis)\n",
    "\n",
    "print(\"Emojis found:\")\n",
    "for emoji, count in emoji_counts.items():\n",
    "    print(f\"{emoji}: {count}\")"
   ]
  },
  {
   "cell_type": "code",
   "execution_count": 60,
   "id": "ff65d8a9-c1bf-4fc7-8cb5-6918afc34091",
   "metadata": {},
   "outputs": [
    {
     "data": {
      "text/plain": [
       "{'😊': 1, '😃': 1, '👍': 1}"
      ]
     },
     "execution_count": 60,
     "metadata": {},
     "output_type": "execute_result"
    }
   ],
   "source": [
    "text_with_emojis = \"This is a sentence with some emojis: 😊 😃 👍\"\n",
    "emoji_counts = count_emojis_inDataFame(text_with_emojis)\n",
    "emoji_counts"
   ]
  },
  {
   "cell_type": "code",
   "execution_count": 61,
   "id": "de7d306d-f64a-4247-8729-c3326dbfa4d1",
   "metadata": {},
   "outputs": [
    {
     "name": "stdout",
     "output_type": "stream",
     "text": [
      "😀\n"
     ]
    }
   ],
   "source": [
    "print(\"\\U0001f600\") "
   ]
  },
  {
   "cell_type": "code",
   "execution_count": 62,
   "id": "b586dad0-a273-4326-8a38-0c43a9cd486d",
   "metadata": {},
   "outputs": [
    {
     "name": "stdout",
     "output_type": "stream",
     "text": [
      "😀\n"
     ]
    }
   ],
   "source": [
    "print(\"\\N{grinning face}\")"
   ]
  },
  {
   "cell_type": "code",
   "execution_count": 63,
   "id": "b61bbbb8-c671-45cc-92be-fe3d79979119",
   "metadata": {},
   "outputs": [
    {
     "name": "stdout",
     "output_type": "stream",
     "text": [
      "😀\n"
     ]
    }
   ],
   "source": [
    "print(\"\\U0001f600\")"
   ]
  },
  {
   "cell_type": "code",
   "execution_count": 64,
   "id": "78daf3bc-5c01-423b-9427-102301e546c0",
   "metadata": {},
   "outputs": [
    {
     "name": "stdout",
     "output_type": "stream",
     "text": [
      "😉\n"
     ]
    }
   ],
   "source": [
    "print(\"\\N{winking face}\")"
   ]
  },
  {
   "cell_type": "code",
   "execution_count": 65,
   "id": "588b2140-f2c5-4a3f-9bf0-2d5722fe829e",
   "metadata": {},
   "outputs": [
    {
     "name": "stdout",
     "output_type": "stream",
     "text": [
      "😉\n"
     ]
    }
   ],
   "source": [
    "print(\"\\N{winking face}\")"
   ]
  },
  {
   "cell_type": "code",
   "execution_count": 67,
   "id": "1113bef7-8473-4a18-9577-4250b51c81fb",
   "metadata": {},
   "outputs": [
    {
     "name": "stdout",
     "output_type": "stream",
     "text": [
      "😉\n"
     ]
    }
   ],
   "source": [
    "print(\"\\N{winking face}\")"
   ]
  },
  {
   "cell_type": "code",
   "execution_count": null,
   "id": "6353fa84-6762-4549-9b32-d16561aec4ef",
   "metadata": {},
   "outputs": [],
   "source": [
    "# fro give the wordind \n",
    "# feature Extarion \n",
    "from sklearn.feature_extraction import "
   ]
  }
 ],
 "metadata": {
  "kernelspec": {
   "display_name": "Python 3 (ipykernel)",
   "language": "python",
   "name": "python3"
  },
  "language_info": {
   "codemirror_mode": {
    "name": "ipython",
    "version": 3
   },
   "file_extension": ".py",
   "mimetype": "text/x-python",
   "name": "python",
   "nbconvert_exporter": "python",
   "pygments_lexer": "ipython3",
   "version": "3.11.7"
  },
  "widgets": {
   "application/vnd.jupyter.widget-state+json": {
    "state": {},
    "version_major": 2,
    "version_minor": 0
   }
  }
 },
 "nbformat": 4,
 "nbformat_minor": 5
}
